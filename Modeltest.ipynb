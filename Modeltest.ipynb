{
 "cells": [
  {
   "cell_type": "code",
   "execution_count": 3,
   "id": "54e0c24d-5c1f-4455-b984-159126728035",
   "metadata": {},
   "outputs": [],
   "source": [
    "import pandas as pd\n",
    "import pickle"
   ]
  },
  {
   "cell_type": "code",
   "execution_count": 4,
   "id": "5665774d-c3cc-45da-85dc-c5066f3050ec",
   "metadata": {},
   "outputs": [],
   "source": [
    "def make_predictions(Age, DiabetesPedigreeFunction, BMI, Insulin, SkinThickness, BloodPressure, Glucose, Pregnancies):\n",
    "    df = pd.DataFrame()\n",
    "    df[\"Pregnancies\"] = [Pregnancies]\n",
    "    df[\"Glucose\"] = [Glucose]\n",
    "    df[\"BloodPressure\"] = [BloodPressure]\n",
    "    df[\"SkinThickness\"] = [SkinThickness]\n",
    "    df[\"Insulin\"] = [Insulin]\n",
    "    df[\"BMI\"] = [BMI]\n",
    "    df[\"DiabetesPedigreeFunction\"] = [DiabetesPedigreeFunction]\n",
    "    df[\"Age\"] = [Age]\n",
    "    # Load model\n",
    "    model = pickle.load(open(\"Pima_Indian_Heritage_Diabetes_model_pipeline.h5\", 'rb'))\n",
    "    \n",
    "    preds = model.predict_proba(df)\n",
    "    diabetic = preds[0][1]\n",
    "\n",
    "    return(diabetic)"
   ]
  },
  {
   "cell_type": "code",
   "execution_count": 7,
   "id": "cf16cc98-b162-4431-ac92-5901e8c37db7",
   "metadata": {},
   "outputs": [
    {
     "data": {
      "text/plain": [
       "0.0018617865602188126"
      ]
     },
     "execution_count": 7,
     "metadata": {},
     "output_type": "execute_result"
    }
   ],
   "source": [
    "Pregnancies = 1\n",
    "Glucose = 85.0\n",
    "BloodPressure = 66.0\n",
    "SkinThickness = 29.0\n",
    "Insulin = 30.5\n",
    "BMI = 0\n",
    "DiabetesPedigreeFunction = 0.078\n",
    "Age = 31\n",
    "\n",
    "make_predictions(Age, DiabetesPedigreeFunction, BMI, Insulin, SkinThickness, BloodPressure, Glucose, Pregnancies)"
   ]
  },
  {
   "cell_type": "code",
   "execution_count": null,
   "id": "a70fe0d3-eb92-4ceb-a729-9d86b5737d63",
   "metadata": {},
   "outputs": [],
   "source": []
  }
 ],
 "metadata": {
  "kernelspec": {
   "display_name": "Python 3 (ipykernel)",
   "language": "python",
   "name": "python3"
  },
  "language_info": {
   "codemirror_mode": {
    "name": "ipython",
    "version": 3
   },
   "file_extension": ".py",
   "mimetype": "text/x-python",
   "name": "python",
   "nbconvert_exporter": "python",
   "pygments_lexer": "ipython3",
   "version": "3.10.15"
  }
 },
 "nbformat": 4,
 "nbformat_minor": 5
}
